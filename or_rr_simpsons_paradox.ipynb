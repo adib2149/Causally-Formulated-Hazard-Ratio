{
 "cells": [
  {
   "cell_type": "markdown",
   "metadata": {},
   "source": [
    "# Strong bias\n",
    "Code\n",
    "z\tX=0\tX=1\n",
    "0\t6/27\t0.22\t99/249\t0.40\n",
    "1\t91/123\t0.74\t79/102\t0.77\n",
    "total:\t97/150\t0.65\t178/351\t0.51\n",
    "\n",
    "# Weak bias\n",
    "Code\n",
    "z\tX=0\tX=1\n",
    "0\t9/31\t0.29\t71/310\t0.23\n",
    "1\t117/119\t0.98\t20/39\t0.51\n",
    "total:\t126/150\t0.84\t91/349\t0.26\n",
    "\n",
    "http://www.degeneratestate.org/posts/2017/Oct/22/generating-examples-of-simpsons-paradox/"
   ]
  },
  {
   "cell_type": "code",
   "execution_count": 1,
   "metadata": {},
   "outputs": [],
   "source": [
    "import scipy.stats as stats"
   ]
  },
  {
   "cell_type": "code",
   "execution_count": 18,
   "metadata": {},
   "outputs": [],
   "source": [
    "count = [[[21, 6], [150, 99]], [[32, 91], [23, 79]]] # simpsons"
   ]
  },
  {
   "cell_type": "code",
   "execution_count": 38,
   "metadata": {},
   "outputs": [],
   "source": [
    "count = [[[22, 9], [239, 71]], [[19, 100], [19, 20]]] # normal bias"
   ]
  },
  {
   "cell_type": "code",
   "execution_count": 39,
   "metadata": {},
   "outputs": [
    {
     "name": "stdout",
     "output_type": "stream",
     "text": [
      "OddsR:  7.537389439828464 p-Value: 3.546683502965013e-22\n"
     ]
    }
   ],
   "source": [
    "table = [[count[0][1][0] + count[1][1][0], count[0][1][1]+count[1][1][1]], [count[0][0][0] + count[1][0][0], count[0][0][1]+count[1][0][1]]]\n",
    "oddsratio, pvalue = stats.fisher_exact(table)\n",
    "print(\"OddsR: \", oddsratio, \"p-Value:\", pvalue)"
   ]
  },
  {
   "cell_type": "code",
   "execution_count": 40,
   "metadata": {},
   "outputs": [
    {
     "name": "stdout",
     "output_type": "stream",
     "text": [
      "OddsR:  1.37708066581306 p-Value: 0.5044656707567599\n"
     ]
    }
   ],
   "source": [
    "table = [[count[0][1][0], count[0][1][1]], [count[0][0][0], count[0][0][1]]]\n",
    "oddsratio, pvalue = stats.fisher_exact(table)\n",
    "print(\"OddsR: \", oddsratio, \"p-Value:\", pvalue)"
   ]
  },
  {
   "cell_type": "code",
   "execution_count": 41,
   "metadata": {},
   "outputs": [
    {
     "name": "stdout",
     "output_type": "stream",
     "text": [
      "OddsR:  5.0 p-Value: 0.00014432655692203826\n"
     ]
    }
   ],
   "source": [
    "table = [[count[1][1][0], count[1][1][1]], [count[1][0][0], count[1][0][1]]]\n",
    "oddsratio, pvalue = stats.fisher_exact(table)\n",
    "print(\"OddsR: \", oddsratio, \"p-Value:\", pvalue)"
   ]
  },
  {
   "cell_type": "code",
   "execution_count": 12,
   "metadata": {},
   "outputs": [
    {
     "data": {
      "text/plain": [
       "[[71, 81], [25, 234]]"
      ]
     },
     "execution_count": 12,
     "metadata": {},
     "output_type": "execute_result"
    }
   ],
   "source": [
    "table"
   ]
  },
  {
   "cell_type": "markdown",
   "metadata": {},
   "source": [
    "---\n",
    "# Book example"
   ]
  },
  {
   "cell_type": "code",
   "execution_count": 43,
   "metadata": {},
   "outputs": [],
   "source": [
    "count = [[[36, 234], [6, 81]], [[25, 55], [71, 192]]] # book simpsons"
   ]
  },
  {
   "cell_type": "code",
   "execution_count": 46,
   "metadata": {},
   "outputs": [
    {
     "data": {
      "text/plain": [
       "[[36, 234], [6, 81]]"
      ]
     },
     "execution_count": 46,
     "metadata": {},
     "output_type": "execute_result"
    }
   ],
   "source": [
    "count[0]"
   ]
  },
  {
   "cell_type": "code",
   "execution_count": null,
   "metadata": {},
   "outputs": [],
   "source": [
    "def P_Y_do_X(y, x):\n",
    "    total = count[0][0][0] + \n",
    "    P_Z_0 \n",
    "\n",
    "    sum = ()/() * (count[])/() +\n",
    "    return P(Y=0|X=1, Z=0)P(Z=0) +  P(Y=0|X=1, Z=1)P(Z=1) "
   ]
  },
  {
   "cell_type": "code",
   "execution_count": 1,
   "metadata": {},
   "outputs": [],
   "source": [
    "import pandas as pd\n",
    "import numpy as np"
   ]
  },
  {
   "cell_type": "code",
   "execution_count": 2,
   "metadata": {},
   "outputs": [],
   "source": [
    "data = pd.DataFrame(columns=['female', 'drug', 'recovery'])"
   ]
  },
  {
   "cell_type": "code",
   "execution_count": 3,
   "metadata": {},
   "outputs": [],
   "source": [
    "for i in range(0, 36):\n",
    "    simpsons.loc[i] = [0, 0, 0]\n",
    "\n",
    "for i in range(36, 270):\n",
    "    simpsons.loc[i] = [0, 0, 1]\n",
    "    \n",
    "for i in range(270, 276):\n",
    "    simpsons.loc[i] = [0, 1, 0]\n",
    "\n",
    "for i in range(276, 357):\n",
    "    simpsons.loc[i] = [0, 1, 1]\n",
    "    \n",
    "for i in range(357, 382):\n",
    "    simpsons.loc[i] = [1, 0, 0]\n",
    "\n",
    "for i in range(382, 437):\n",
    "    simpsons.loc[i] = [1, 0, 1]\n",
    "    \n",
    "for i in range(437, 508):\n",
    "    simpsons.loc[i] = [1, 1, 0]\n",
    "\n",
    "for i in range(508, 700):\n",
    "    simpsons.loc[i] = [1, 1, 1]\n",
    "    \n",
    "simpsons = simpsons.reindex(np.random.permutation(simpsons.index))"
   ]
  },
  {
   "cell_type": "code",
   "execution_count": 4,
   "metadata": {},
   "outputs": [],
   "source": [
    "drug_notrecovered = len(simpsons[(simpsons.drug == 1) & (simpsons.recovery == 0)])\n",
    "drug_recovered = len(simpsons[(simpsons.drug == 1) & (simpsons.recovery == 1)])\n",
    "\n",
    "nodrug_notrecovered = len(simpsons[(simpsons.drug == 0) & (simpsons.recovery == 0)])\n",
    "nodrug_recovered = len(simpsons[(simpsons.drug == 0) & (simpsons.recovery == 1)])"
   ]
  },
  {
   "cell_type": "code",
   "execution_count": 5,
   "metadata": {},
   "outputs": [],
   "source": [
    "table = [[drug_notrecovered, drug_recovered], [nodrug_notrecovered, nodrug_recovered]]"
   ]
  },
  {
   "cell_type": "code",
   "execution_count": 6,
   "metadata": {},
   "outputs": [
    {
     "data": {
      "text/plain": [
       "[[77, 273], [61, 289]]"
      ]
     },
     "execution_count": 6,
     "metadata": {},
     "output_type": "execute_result"
    }
   ],
   "source": [
    "table"
   ]
  },
  {
   "cell_type": "code",
   "execution_count": 8,
   "metadata": {},
   "outputs": [
    {
     "name": "stdout",
     "output_type": "stream",
     "text": [
      "OddsR:  1.3362757461118118 p-Value: 0.15397416174831255\n"
     ]
    }
   ],
   "source": [
    "oddsratio, pvalue = stats.fisher_exact(table)\n",
    "print(\"OddsR: \", oddsratio, \"p-Value:\", pvalue)"
   ]
  },
  {
   "cell_type": "code",
   "execution_count": 9,
   "metadata": {},
   "outputs": [
    {
     "name": "stdout",
     "output_type": "stream",
     "text": [
      "OddsR:  0.48148148148148145 p-Value: 0.12663202412620278\n"
     ]
    }
   ],
   "source": [
    "oddsratio, pvalue = stats.fisher_exact([[6, 81], [36, 234]])\n",
    "print(\"OddsR: \", oddsratio, \"p-Value:\", pvalue)"
   ]
  },
  {
   "cell_type": "code",
   "execution_count": 10,
   "metadata": {},
   "outputs": [
    {
     "name": "stdout",
     "output_type": "stream",
     "text": [
      "OddsR:  0.8135416666666667 p-Value: 0.4786164162814328\n"
     ]
    }
   ],
   "source": [
    "oddsratio, pvalue = stats.fisher_exact([[71, 192], [25, 55]])\n",
    "print(\"OddsR: \", oddsratio, \"p-Value:\", pvalue)"
   ]
  },
  {
   "cell_type": "code",
   "execution_count": null,
   "metadata": {},
   "outputs": [],
   "source": []
  }
 ],
 "metadata": {
  "kernelspec": {
   "display_name": "Python 3",
   "language": "python",
   "name": "python3"
  },
  "language_info": {
   "codemirror_mode": {
    "name": "ipython",
    "version": 3
   },
   "file_extension": ".py",
   "mimetype": "text/x-python",
   "name": "python",
   "nbconvert_exporter": "python",
   "pygments_lexer": "ipython3",
   "version": "3.6.5"
  }
 },
 "nbformat": 4,
 "nbformat_minor": 2
}
