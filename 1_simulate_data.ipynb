{
 "cells": [
  {
   "cell_type": "code",
   "execution_count": 4,
   "metadata": {},
   "outputs": [
    {
     "data": {
      "text/plain": [
       "'/Users/riddhimanadib/.virtualenvs/dataanalysis/bin/python3'"
      ]
     },
     "execution_count": 4,
     "metadata": {},
     "output_type": "execute_result"
    }
   ],
   "source": [
    "import sys\n",
    "\n",
    "sys.executable"
   ]
  },
  {
   "cell_type": "markdown",
   "metadata": {},
   "source": [
    "# Assumption\n",
    "\n",
    "Let us assume a known Causal DAG with 3 variables.\n",
    "\n",
    "1. treatment - drug - marked by X \n",
    "2. outcome - survival time - marked by Y \n",
    "3. confounding - sex - marked by Z "
   ]
  },
  {
   "cell_type": "code",
   "execution_count": 1,
   "metadata": {},
   "outputs": [],
   "source": [
    "# import pydot\n",
    "\n",
    "# graph = pydot.Dot(graph_type='digraph') # digraph means directed graph\n",
    "\n",
    "# # creating nodes is as simple as creating edges!\n",
    "# # node_a = pydot.Node(\"Node A\", style=\"filled\", fillcolor=\"red\")\n",
    "# node_a = pydot.Node(\"Z (sex)\")\n",
    "# node_b = pydot.Node(\"X (drug)\")\n",
    "# node_c = pydot.Node(\"Y (survival)\")\n",
    "\n",
    "# graph.add_node(node_a)\n",
    "# graph.add_node(node_b)\n",
    "# graph.add_node(node_c)\n",
    "\n",
    "# # graph.add_edge(pydot.Edge(node_d, node_a, label=\"and back we go again\", labelfontcolor=\"#009933\", fontsize=\"10.0\", color=\"blue\"))\n",
    "# graph.add_edge(pydot.Edge(node_a, node_b))\n",
    "# graph.add_edge(pydot.Edge(node_a, node_c))\n",
    "# graph.add_edge(pydot.Edge(node_b, node_c))\n",
    "\n",
    "# # and we are done\n",
    "# # graph.write_png('example2_graph.png')\n",
    "\n",
    "# from IPython.display import Image, display\n",
    "\n",
    "# graph_plot = Image(graph.create_png())\n",
    "# display(graph_plot)"
   ]
  },
  {
   "cell_type": "markdown",
   "metadata": {},
   "source": [
    "--- \n",
    "\n",
    "# Experimentation\n",
    "\n",
    "Now we assume we know the causal DAG and we simulate dataset based on our assumed causal DAG."
   ]
  },
  {
   "cell_type": "code",
   "execution_count": 2,
   "metadata": {},
   "outputs": [],
   "source": [
    "import matplotlib.pyplot as plt\n",
    "from math import exp\n",
    "from scipy.stats import norm\n",
    "import pandas as pd\n",
    "import numpy as np\n",
    "import random"
   ]
  },
  {
   "cell_type": "markdown",
   "metadata": {},
   "source": [
    "### Parameters of simulations\n",
    "\n",
    "We assume the <b>trial length</b> to be <b>50</b> and <b>number of test population</b> to be <b>20</b>. Our variables X and Z are <b>categorical variables</b> with values 0 or 1. \n",
    "\n",
    "\n",
    "For simplicity, we can assume X=0 means male, X=1 means female, and Z=0 means no drug presceibed, X=1 means drug prescribed."
   ]
  },
  {
   "cell_type": "code",
   "execution_count": 3,
   "metadata": {},
   "outputs": [],
   "source": [
    "trial_length = 50\n",
    "population = 200"
   ]
  },
  {
   "cell_type": "code",
   "execution_count": 4,
   "metadata": {},
   "outputs": [],
   "source": [
    "X = [0, 1]\n",
    "Z = [0, 1]"
   ]
  },
  {
   "cell_type": "code",
   "execution_count": 5,
   "metadata": {},
   "outputs": [],
   "source": [
    "# #     if sex == 0 and drug == 0:\n",
    "# #         a = 0.025\n",
    "# #     elif sex == 1 and drug == 0:\n",
    "# #         a = 0.030\n",
    "# #     elif sex == 0 and drug == 1:\n",
    "# #         a = 0.010\n",
    "# #     elif sex == 1 and drug == 1::\n",
    "# #         a = 0.090\n",
    "\n",
    "def get_survival_from_drug_sex(sex, drug, n):\n",
    "    ''' \n",
    "    Survival time is calculated from sex and drug, using a exponential baseline hazard\n",
    "    This shows survival time (Y) is being controlled by both sex (Z) and drug (X)\n",
    "    '''\n",
    "    a = 0.025 + 0.005 * sex - 0.015 * drug + 0.075 * sex * drug\n",
    "    noise = np.random.uniform()\n",
    "    return 5*exp(a*n) + noise"
   ]
  },
  {
   "cell_type": "markdown",
   "metadata": {},
   "source": [
    "### General graph showing survival times for individuals\n",
    "\n",
    "<img src=\"desmos.png\" alt=\"General graph showing survival times for individuals\" width=\"800\"/>"
   ]
  },
  {
   "cell_type": "code",
   "execution_count": 6,
   "metadata": {},
   "outputs": [],
   "source": [
    "def get_drug_from_sex(sex, population):\n",
    "    # draw a uniform random number between 0 to 1, male > 0.75, female > 0.25\n",
    "    subgroup_drug_sex = []\n",
    "    bias = 0.25\n",
    "    loop_length = 1000\n",
    "    \n",
    "    count = 0\n",
    "    for i in range(loop_length):\n",
    "        rand = np.random.uniform()\n",
    "        if rand <= bias:\n",
    "            count += 1\n",
    "    percentage = (count / loop_length)\n",
    "    subgroup_drug_sex.append(int(population/2 * percentage))\n",
    "    subgroup_drug_sex.append(int(population/2 * (1-percentage)))\n",
    "    \n",
    "    count = 0\n",
    "    for i in range(loop_length):\n",
    "        rand = np.random.uniform()\n",
    "        if rand <= bias:\n",
    "            count += 1\n",
    "    percentage = (count / loop_length)\n",
    "    subgroup_drug_sex.append(int(population/2 * (1-percentage)))\n",
    "    subgroup_drug_sex.append(int(population/2 * percentage))\n",
    "            \n",
    "    \n",
    "    return subgroup_drug_sex"
   ]
  },
  {
   "cell_type": "code",
   "execution_count": 7,
   "metadata": {},
   "outputs": [
    {
     "data": {
      "text/plain": [
       "[25, 74, 73, 26]"
      ]
     },
     "execution_count": 7,
     "metadata": {},
     "output_type": "execute_result"
    }
   ],
   "source": [
    "subgroup = get_drug_from_sex(Z, population)\n",
    "subgroup"
   ]
  },
  {
   "cell_type": "code",
   "execution_count": 8,
   "metadata": {},
   "outputs": [],
   "source": [
    "data = pd.DataFrame(columns=['sex', 'drug', 'time', 'status'])\n",
    "\n",
    "cumulative = 0\n",
    "for k in range(len(subgroup)):\n",
    "    for i in range(subgroup[k]):\n",
    "        survival_time = get_survival_from_drug_sex(Z[k%2], X[k//2], i)\n",
    "        if survival_time <= trial_length:\n",
    "            status = 1\n",
    "        else:\n",
    "            survival_time = trial_length\n",
    "            status = 0\n",
    "        data.loc[cumulative+i] = [Z[k%2], X[k//2], survival_time, status]\n",
    "    cumulative += subgroup[k]\n",
    "    \n",
    "data = data.reindex(np.random.permutation(data.index))\n",
    "data = data.reset_index(drop=True)"
   ]
  },
  {
   "cell_type": "code",
   "execution_count": 9,
   "metadata": {},
   "outputs": [
    {
     "data": {
      "text/html": [
       "<div>\n",
       "<style scoped>\n",
       "    .dataframe tbody tr th:only-of-type {\n",
       "        vertical-align: middle;\n",
       "    }\n",
       "\n",
       "    .dataframe tbody tr th {\n",
       "        vertical-align: top;\n",
       "    }\n",
       "\n",
       "    .dataframe thead th {\n",
       "        text-align: right;\n",
       "    }\n",
       "</style>\n",
       "<table border=\"1\" class=\"dataframe\">\n",
       "  <thead>\n",
       "    <tr style=\"text-align: right;\">\n",
       "      <th></th>\n",
       "      <th>sex</th>\n",
       "      <th>drug</th>\n",
       "      <th>time</th>\n",
       "      <th>status</th>\n",
       "    </tr>\n",
       "  </thead>\n",
       "  <tbody>\n",
       "    <tr>\n",
       "      <th>54</th>\n",
       "      <td>1.0</td>\n",
       "      <td>0.0</td>\n",
       "      <td>37.341340</td>\n",
       "      <td>1.0</td>\n",
       "    </tr>\n",
       "    <tr>\n",
       "      <th>151</th>\n",
       "      <td>1.0</td>\n",
       "      <td>1.0</td>\n",
       "      <td>39.628646</td>\n",
       "      <td>1.0</td>\n",
       "    </tr>\n",
       "    <tr>\n",
       "      <th>153</th>\n",
       "      <td>1.0</td>\n",
       "      <td>0.0</td>\n",
       "      <td>32.814338</td>\n",
       "      <td>1.0</td>\n",
       "    </tr>\n",
       "    <tr>\n",
       "      <th>166</th>\n",
       "      <td>1.0</td>\n",
       "      <td>0.0</td>\n",
       "      <td>17.593069</td>\n",
       "      <td>1.0</td>\n",
       "    </tr>\n",
       "    <tr>\n",
       "      <th>173</th>\n",
       "      <td>0.0</td>\n",
       "      <td>1.0</td>\n",
       "      <td>6.090205</td>\n",
       "      <td>1.0</td>\n",
       "    </tr>\n",
       "    <tr>\n",
       "      <th>30</th>\n",
       "      <td>1.0</td>\n",
       "      <td>1.0</td>\n",
       "      <td>19.829224</td>\n",
       "      <td>1.0</td>\n",
       "    </tr>\n",
       "    <tr>\n",
       "      <th>122</th>\n",
       "      <td>0.0</td>\n",
       "      <td>1.0</td>\n",
       "      <td>7.844070</td>\n",
       "      <td>1.0</td>\n",
       "    </tr>\n",
       "    <tr>\n",
       "      <th>50</th>\n",
       "      <td>1.0</td>\n",
       "      <td>1.0</td>\n",
       "      <td>8.745777</td>\n",
       "      <td>1.0</td>\n",
       "    </tr>\n",
       "    <tr>\n",
       "      <th>97</th>\n",
       "      <td>0.0</td>\n",
       "      <td>1.0</td>\n",
       "      <td>8.848738</td>\n",
       "      <td>1.0</td>\n",
       "    </tr>\n",
       "    <tr>\n",
       "      <th>140</th>\n",
       "      <td>0.0</td>\n",
       "      <td>1.0</td>\n",
       "      <td>8.319200</td>\n",
       "      <td>1.0</td>\n",
       "    </tr>\n",
       "  </tbody>\n",
       "</table>\n",
       "</div>"
      ],
      "text/plain": [
       "     sex  drug       time  status\n",
       "54   1.0   0.0  37.341340     1.0\n",
       "151  1.0   1.0  39.628646     1.0\n",
       "153  1.0   0.0  32.814338     1.0\n",
       "166  1.0   0.0  17.593069     1.0\n",
       "173  0.0   1.0   6.090205     1.0\n",
       "30   1.0   1.0  19.829224     1.0\n",
       "122  0.0   1.0   7.844070     1.0\n",
       "50   1.0   1.0   8.745777     1.0\n",
       "97   0.0   1.0   8.848738     1.0\n",
       "140  0.0   1.0   8.319200     1.0"
      ]
     },
     "execution_count": 9,
     "metadata": {},
     "output_type": "execute_result"
    }
   ],
   "source": [
    "data.sample(10)"
   ]
  },
  {
   "cell_type": "code",
   "execution_count": 10,
   "metadata": {},
   "outputs": [
    {
     "name": "stdout",
     "output_type": "stream",
     "text": [
      "<class 'pandas.core.frame.DataFrame'>\n",
      "RangeIndex: 198 entries, 0 to 197\n",
      "Data columns (total 4 columns):\n",
      "sex       198 non-null float64\n",
      "drug      198 non-null float64\n",
      "time      198 non-null float64\n",
      "status    198 non-null float64\n",
      "dtypes: float64(4)\n",
      "memory usage: 6.3 KB\n"
     ]
    }
   ],
   "source": [
    "data.info()"
   ]
  },
  {
   "cell_type": "code",
   "execution_count": 11,
   "metadata": {},
   "outputs": [
    {
     "data": {
      "text/html": [
       "<div>\n",
       "<style scoped>\n",
       "    .dataframe tbody tr th:only-of-type {\n",
       "        vertical-align: middle;\n",
       "    }\n",
       "\n",
       "    .dataframe tbody tr th {\n",
       "        vertical-align: top;\n",
       "    }\n",
       "\n",
       "    .dataframe thead th {\n",
       "        text-align: right;\n",
       "    }\n",
       "</style>\n",
       "<table border=\"1\" class=\"dataframe\">\n",
       "  <thead>\n",
       "    <tr style=\"text-align: right;\">\n",
       "      <th></th>\n",
       "      <th>sex</th>\n",
       "      <th>drug</th>\n",
       "      <th>time</th>\n",
       "      <th>status</th>\n",
       "    </tr>\n",
       "  </thead>\n",
       "  <tbody>\n",
       "    <tr>\n",
       "      <th>count</th>\n",
       "      <td>198.000000</td>\n",
       "      <td>198.000000</td>\n",
       "      <td>198.000000</td>\n",
       "      <td>198.0</td>\n",
       "    </tr>\n",
       "    <tr>\n",
       "      <th>mean</th>\n",
       "      <td>0.505051</td>\n",
       "      <td>0.500000</td>\n",
       "      <td>13.378716</td>\n",
       "      <td>1.0</td>\n",
       "    </tr>\n",
       "    <tr>\n",
       "      <th>std</th>\n",
       "      <td>0.501242</td>\n",
       "      <td>0.501267</td>\n",
       "      <td>10.058502</td>\n",
       "      <td>0.0</td>\n",
       "    </tr>\n",
       "    <tr>\n",
       "      <th>min</th>\n",
       "      <td>0.000000</td>\n",
       "      <td>0.000000</td>\n",
       "      <td>5.267881</td>\n",
       "      <td>1.0</td>\n",
       "    </tr>\n",
       "    <tr>\n",
       "      <th>25%</th>\n",
       "      <td>0.000000</td>\n",
       "      <td>0.000000</td>\n",
       "      <td>6.910774</td>\n",
       "      <td>1.0</td>\n",
       "    </tr>\n",
       "    <tr>\n",
       "      <th>50%</th>\n",
       "      <td>1.000000</td>\n",
       "      <td>0.500000</td>\n",
       "      <td>8.940632</td>\n",
       "      <td>1.0</td>\n",
       "    </tr>\n",
       "    <tr>\n",
       "      <th>75%</th>\n",
       "      <td>1.000000</td>\n",
       "      <td>1.000000</td>\n",
       "      <td>15.415992</td>\n",
       "      <td>1.0</td>\n",
       "    </tr>\n",
       "    <tr>\n",
       "      <th>max</th>\n",
       "      <td>1.000000</td>\n",
       "      <td>1.000000</td>\n",
       "      <td>47.575645</td>\n",
       "      <td>1.0</td>\n",
       "    </tr>\n",
       "  </tbody>\n",
       "</table>\n",
       "</div>"
      ],
      "text/plain": [
       "              sex        drug        time  status\n",
       "count  198.000000  198.000000  198.000000   198.0\n",
       "mean     0.505051    0.500000   13.378716     1.0\n",
       "std      0.501242    0.501267   10.058502     0.0\n",
       "min      0.000000    0.000000    5.267881     1.0\n",
       "25%      0.000000    0.000000    6.910774     1.0\n",
       "50%      1.000000    0.500000    8.940632     1.0\n",
       "75%      1.000000    1.000000   15.415992     1.0\n",
       "max      1.000000    1.000000   47.575645     1.0"
      ]
     },
     "execution_count": 11,
     "metadata": {},
     "output_type": "execute_result"
    }
   ],
   "source": [
    "data.describe()"
   ]
  },
  {
   "cell_type": "code",
   "execution_count": 12,
   "metadata": {},
   "outputs": [
    {
     "data": {
      "text/plain": [
       "[<matplotlib.lines.Line2D at 0x1253a59e8>]"
      ]
     },
     "execution_count": 12,
     "metadata": {},
     "output_type": "execute_result"
    },
    {
     "data": {
      "image/png": "[encoded data removed]",
      "text/plain": [
       "<Figure size 432x288 with 1 Axes>"
      ]
     },
     "metadata": {
      "needs_background": "light"
     },
     "output_type": "display_data"
    }
   ],
   "source": [
    "time00 = data[(data['sex'] == 0) & (data['drug'] == 0)].sort_values(by='time', ascending=True)['time']\n",
    "time01 = data[(data['sex'] == 0) & (data['drug'] == 1)].sort_values(by='time', ascending=True)['time']\n",
    "time10 = data[(data['sex'] == 1) & (data['drug'] == 0)].sort_values(by='time', ascending=True)['time']\n",
    "time11 = data[(data['sex'] == 1) & (data['drug'] == 1)].sort_values(by='time', ascending=True)['time']\n",
    "\n",
    "plt.plot(range(len(time00)), time00, 'r-o')\n",
    "plt.plot(range(len(time01)), time01, 'g-o')\n",
    "plt.plot(range(len(time10)), time10, 'b-o')\n",
    "plt.plot(range(len(time11)), time11, 'k-o')"
   ]
  },
  {
   "cell_type": "markdown",
   "metadata": {},
   "source": [
    "---\n",
    "\n",
    "# Survival Analysis thorugh Kaplan Meier Fitter"
   ]
  },
  {
   "cell_type": "code",
   "execution_count": 13,
   "metadata": {},
   "outputs": [
    {
     "ename": "ModuleNotFoundError",
     "evalue": "No module named 'lifelines'",
     "output_type": "error",
     "traceback": [
      "\u001b[0;31m---------------------------------------------------------------------------\u001b[0m",
      "\u001b[0;31mModuleNotFoundError\u001b[0m                       Traceback (most recent call last)",
      "\u001b[0;32m<ipython-input-13-01250b293d52>\u001b[0m in \u001b[0;36m<module>\u001b[0;34m\u001b[0m\n\u001b[0;32m----> 1\u001b[0;31m \u001b[0;32mfrom\u001b[0m \u001b[0mlifelines\u001b[0m \u001b[0;32mimport\u001b[0m \u001b[0mCoxPHFitter\u001b[0m\u001b[0;34m,\u001b[0m \u001b[0mKaplanMeierFitter\u001b[0m\u001b[0;34m\u001b[0m\u001b[0m\n\u001b[0m\u001b[1;32m      2\u001b[0m \u001b[0;32mfrom\u001b[0m \u001b[0mlifelines\u001b[0m\u001b[0;34m.\u001b[0m\u001b[0mplotting\u001b[0m \u001b[0;32mimport\u001b[0m \u001b[0mplot_lifetimes\u001b[0m\u001b[0;34m\u001b[0m\u001b[0m\n",
      "\u001b[0;31mModuleNotFoundError\u001b[0m: No module named 'lifelines'"
     ]
    }
   ],
   "source": [
    "from lifelines import CoxPHFitter, KaplanMeierFitter\n",
    "from lifelines.plotting import plot_lifetimes"
   ]
  },
  {
   "cell_type": "markdown",
   "metadata": {},
   "source": [
    "### Survival time plotting of drug vs no drug group"
   ]
  },
  {
   "cell_type": "code",
   "execution_count": null,
   "metadata": {},
   "outputs": [],
   "source": [
    "ix = (data['drug'] == 1)\n",
    "\n",
    "kmf = KaplanMeierFitter()\n",
    "kmf.fit(data['time'][~ix], data['status'][~ix], label='drug = 0')\n",
    "ax = kmf.plot_survival_function()\n",
    "\n",
    "kmf = KaplanMeierFitter()\n",
    "kmf.fit(data['time'][ix], data['status'][ix], label='drug = 1')\n",
    "ax = kmf.plot_survival_function(ax=ax)"
   ]
  },
  {
   "cell_type": "markdown",
   "metadata": {},
   "source": [
    "### Survival time plotting of female vs male group"
   ]
  },
  {
   "cell_type": "code",
   "execution_count": null,
   "metadata": {},
   "outputs": [],
   "source": [
    "ix = (data['sex'] == 1)\n",
    "\n",
    "kmf = KaplanMeierFitter()\n",
    "kmf.fit(data['time'][~ix], data['status'][~ix], label='sex = 0 (male)')\n",
    "ax = kmf.plot_survival_function()\n",
    "\n",
    "kmf = KaplanMeierFitter()\n",
    "kmf.fit(data['time'][ix], data['status'][ix], label='sex = 1 (female)')\n",
    "ax = kmf.plot_survival_function(ax=ax)"
   ]
  },
  {
   "cell_type": "markdown",
   "metadata": {},
   "source": [
    "### Survival time plotting of female vs male group, with drug vs no drug"
   ]
  },
  {
   "cell_type": "code",
   "execution_count": null,
   "metadata": {},
   "outputs": [],
   "source": [
    "i1 = (data['drug'] == 0) & (data['sex'] == 0)\n",
    "i2 = (data['drug'] == 0) & (data['sex'] == 1)\n",
    "i3 = (data['drug'] == 1) & (data['sex'] == 0)\n",
    "i4 = (data['drug'] == 1) & (data['sex'] == 1)\n",
    "\n",
    "kmf = KaplanMeierFitter()\n",
    "kmf.fit(data['time'][i1], data['status'][i1], label='drug = 0, sex = 0')\n",
    "ax = kmf.plot_survival_function()\n",
    "\n",
    "kmf = KaplanMeierFitter()\n",
    "kmf.fit(data['time'][i2], data['status'][i2], label='drug = 0, sex = 1')\n",
    "ax = kmf.plot_survival_function(ax=ax)\n",
    "\n",
    "kmf = KaplanMeierFitter()\n",
    "kmf.fit(data['time'][i3], data['status'][i3], label='drug = 1, sex = 0')\n",
    "ax = kmf.plot_survival_function(ax=ax)\n",
    "\n",
    "kmf = KaplanMeierFitter()\n",
    "kmf.fit(data['time'][i4], data['status'][i4], label='drug = 1, sex = 1')\n",
    "ax = kmf.plot_survival_function(ax=ax)"
   ]
  },
  {
   "cell_type": "markdown",
   "metadata": {},
   "source": [
    "---\n",
    "\n",
    "# Survival Analysis thorugh Cox PH Model\n",
    "\n",
    "\n",
    "### When we dont have data on confounding variable (here, Z {sex} )"
   ]
  },
  {
   "cell_type": "code",
   "execution_count": null,
   "metadata": {},
   "outputs": [],
   "source": [
    "data_without_sex = data[['drug', 'time', 'status']].copy()\n",
    "cph_Z_missing = CoxPHFitter()\n",
    "cph_Z_missing.fit(data_without_sex, 'time', 'status')\n",
    "cph_Z_missing.print_summary()"
   ]
  },
  {
   "cell_type": "code",
   "execution_count": null,
   "metadata": {},
   "outputs": [],
   "source": [
    "cph_Z_missing.check_assumptions(data_without_sex)"
   ]
  },
  {
   "cell_type": "markdown",
   "metadata": {},
   "source": [
    "---\n",
    "\n",
    "### When we DO have data on confounding variable (here, Z {sex} )"
   ]
  },
  {
   "cell_type": "code",
   "execution_count": null,
   "metadata": {},
   "outputs": [],
   "source": [
    "cph = CoxPHFitter()\n",
    "cph.fit(data, 'time', 'status')\n",
    "cph.print_summary()"
   ]
  },
  {
   "cell_type": "code",
   "execution_count": null,
   "metadata": {},
   "outputs": [],
   "source": [
    "cph.check_assumptions(data)"
   ]
  },
  {
   "cell_type": "markdown",
   "metadata": {},
   "source": [
    "---"
   ]
  },
  {
   "cell_type": "code",
   "execution_count": null,
   "metadata": {},
   "outputs": [],
   "source": [
    "cph_Z_missing.hazard_ratios_['drug']"
   ]
  },
  {
   "cell_type": "code",
   "execution_count": null,
   "metadata": {},
   "outputs": [],
   "source": [
    "cph.hazard_ratios_['drug']"
   ]
  },
  {
   "cell_type": "markdown",
   "metadata": {},
   "source": [
    "### We see that, without data on confounding, drug has a HR of 1.81, which means the drug is hazardous at any instant of the trial and increases risk of hazard (death) by 80%. \n",
    "\n",
    "\n",
    "### However it is 0.87 with data on confounding, meaning the drug is NOT hazradous and reduces chance of hazard by 13%.\n",
    "\n",
    "---\n",
    "\n",
    "# Limitations\n",
    "\n",
    "1. Assumed exponential baseline hazard: we should look into linear distribution, or in general, Weibull distribution.\n",
    "2. Assumed single confounding: explore with multiple backdoor open.\n",
    "3. Assumed confounding as categorical variable: explore continuous-value confouding.\n",
    "4. Assumed bias and effect of sex on drug and outcome: We can iterate over varying values of bias and effects of one variable over another."
   ]
  },
  {
   "cell_type": "code",
   "execution_count": null,
   "metadata": {},
   "outputs": [],
   "source": [
    "data.to_csv(r'strong_bias_data_1.csv', index = None, header=True)"
   ]
  },
  {
   "cell_type": "code",
   "execution_count": null,
   "metadata": {},
   "outputs": [],
   "source": []
  },
  {
   "cell_type": "code",
   "execution_count": null,
   "metadata": {},
   "outputs": [],
   "source": []
  }
 ],
 "metadata": {
  "kernelspec": {
   "display_name": "Python 3",
   "language": "python",
   "name": "python3"
  },
  "language_info": {
   "codemirror_mode": {
    "name": "ipython",
    "version": 3
   },
   "file_extension": ".py",
   "mimetype": "text/x-python",
   "name": "python",
   "nbconvert_exporter": "python",
   "pygments_lexer": "ipython3",
   "version": "3.6.5"
  }
 },
 "nbformat": 4,
 "nbformat_minor": 2
}
